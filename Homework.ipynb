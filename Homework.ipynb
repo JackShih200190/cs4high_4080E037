{
  "nbformat": 4,
  "nbformat_minor": 0,
  "metadata": {
    "colab": {
      "name": "Homework.ipynb",
      "provenance": [],
      "include_colab_link": true
    },
    "kernelspec": {
      "name": "python3",
      "display_name": "Python 3"
    }
  },
  "cells": [
    {
      "cell_type": "markdown",
      "metadata": {
        "id": "view-in-github",
        "colab_type": "text"
      },
      "source": [
        "<a href=\"https://colab.research.google.com/github/JackShih200190/cs4high_4080E037/blob/master/Homework.ipynb\" target=\"_parent\"><img src=\"https://colab.research.google.com/assets/colab-badge.svg\" alt=\"Open In Colab\"/></a>"
      ]
    },
    {
      "cell_type": "code",
      "metadata": {
        "id": "g4rv48xqP5rW",
        "colab_type": "code",
        "colab": {
          "base_uri": "https://localhost:8080/",
          "height": 119
        },
        "outputId": "eac4634b-65c5-4262-98dd-2ce30ee521f0"
      },
      "source": [
        "print(\"      *     \");\n",
        "print(\"     ***    \");\n",
        "print(\"    *****   \");\n",
        "print(\"      *     \");\n",
        "print(\"      *     \");\n",
        "print(\"      *     \");"
      ],
      "execution_count": 1,
      "outputs": [
        {
          "output_type": "stream",
          "text": [
            "      *     \n",
            "     ***    \n",
            "    *****   \n",
            "      *     \n",
            "      *     \n",
            "      *     \n"
          ],
          "name": "stdout"
        }
      ]
    }
  ]
}